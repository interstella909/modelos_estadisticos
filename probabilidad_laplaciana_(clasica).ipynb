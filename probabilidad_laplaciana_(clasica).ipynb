{
 "cells": [
  {
   "cell_type": "markdown",
   "id": "9006017e-5436-40da-9887-d678d3d1423f",
   "metadata": {},
   "source": [
    "# Probabilidad Laplaciana (clásica)\n",
    "Para un experimento aleatoriom se tiene que $\\Omega$ es el espacio muestral.\n",
    "\n",
    "Sea $A$ un evento, entonces\n",
    "\n",
    "$$ \\mathbb{P}(A) = \\frac{\\#A}{\\#\\Omega} $$\n",
    "\n",
    "**EJEMPLO:** Sea el experimento de lanzar una moneda 3 veces, de manera independiente (es decir, el $i$-ésimo lanzamiento no me afecta al $i+1$ lanzamiento). El espacio muestral de este experimento es:\n",
    "\n",
    "$$ \\Omega = \\{A,S\\} \\times \\{A,S\\} \\times \\{A,S\\} = \\{A,S\\}^3 $$\n",
    "\n",
    "y tenemos que $\\#\\Omega = 2^3$.\n",
    "\n",
    "Sean los eventos:\n",
    "* $A$: todos los resultados son águila\n",
    "* $S$: todos los resultados son soles\n",
    "* $E$: por lo menos un resultado es sol\n",
    "\n",
    "Calcular las probabilidades de estos eventos:\n",
    "\n",
    "**Solución** Vamos a descomponer mi conjunto $A$ de la siguiente manera:\n",
    "$$A = A_1 \\cap A_2 \\cap A_3 $$\n",
    "donde $A_1$: caé águila en el $i$-ésimo resultado."
   ]
  },
  {
   "cell_type": "code",
   "execution_count": 18,
   "id": "48a147b1-0d9c-4577-9ee4-6363ddd4ca10",
   "metadata": {},
   "outputs": [
    {
     "data": {
      "text/plain": [
       "{('A', 'A', 'A'),\n",
       " ('A', 'A', 'S'),\n",
       " ('A', 'S', 'A'),\n",
       " ('A', 'S', 'S'),\n",
       " ('S', 'A', 'A'),\n",
       " ('S', 'A', 'S'),\n",
       " ('S', 'S', 'A'),\n",
       " ('S', 'S', 'S')}"
      ]
     },
     "execution_count": 18,
     "metadata": {},
     "output_type": "execute_result"
    }
   ],
   "source": [
    "# Vamos a crear el espacio muestral\n",
    "import itertools #importamos el modulo\n",
    "from itertools import product\n",
    "\n",
    "Omega = set(product({\"A\",\"S\"},repeat = 3))\n",
    "Omega"
   ]
  },
  {
   "cell_type": "code",
   "execution_count": 21,
   "id": "ee46c430-9020-4014-bd48-9707243d0c3f",
   "metadata": {},
   "outputs": [
    {
     "data": {
      "text/plain": [
       "8"
      ]
     },
     "execution_count": 21,
     "metadata": {},
     "output_type": "execute_result"
    }
   ],
   "source": [
    "len(Omega) #cardinalidad de Omega"
   ]
  },
  {
   "cell_type": "code",
   "execution_count": 23,
   "id": "edf5e838-ab76-469b-b0f3-9fd3b5e0925b",
   "metadata": {},
   "outputs": [
    {
     "data": {
      "text/plain": [
       "{('A', 'A', 'A'), ('A', 'A', 'S'), ('A', 'S', 'A'), ('A', 'S', 'S')}"
      ]
     },
     "execution_count": 23,
     "metadata": {},
     "output_type": "execute_result"
    }
   ],
   "source": [
    "# Vamos a crear el evento A_1\n",
    "A_1 = {om for om in Omega if om[0] == \"A\"} # la primera coordenada es águila\n",
    "A_1"
   ]
  },
  {
   "cell_type": "code",
   "execution_count": 25,
   "id": "c71ab39c-e261-4ec9-8655-404b873e1c31",
   "metadata": {},
   "outputs": [
    {
     "data": {
      "text/plain": [
       "{('A', 'A', 'A'), ('A', 'A', 'S'), ('S', 'A', 'A'), ('S', 'A', 'S')}"
      ]
     },
     "execution_count": 25,
     "metadata": {},
     "output_type": "execute_result"
    }
   ],
   "source": [
    "# Vamos a crear el evento A_2\n",
    "A_2 = {om for om in Omega if om[1] == \"A\"} # la segunda coordenada es águila\n",
    "A_2"
   ]
  },
  {
   "cell_type": "code",
   "execution_count": 27,
   "id": "507c3372-1663-420e-8d8d-2009ed2650bb",
   "metadata": {},
   "outputs": [
    {
     "data": {
      "text/plain": [
       "{('A', 'A', 'A'), ('A', 'S', 'A'), ('S', 'A', 'A'), ('S', 'S', 'A')}"
      ]
     },
     "execution_count": 27,
     "metadata": {},
     "output_type": "execute_result"
    }
   ],
   "source": [
    "# Vamos a crear el evento A_3\n",
    "A_3 = {om for om in Omega if om[2] == \"A\"} # la tercera coordenada es águila\n",
    "A_3"
   ]
  },
  {
   "cell_type": "code",
   "execution_count": 29,
   "id": "590750a8-4d53-47f1-bb0d-24be0b47742e",
   "metadata": {},
   "outputs": [
    {
     "data": {
      "text/plain": [
       "{('A', 'A', 'A')}"
      ]
     },
     "execution_count": 29,
     "metadata": {},
     "output_type": "execute_result"
    }
   ],
   "source": [
    "# Vamos a crear el evento A\n",
    "A = A_1.intersection(A_2.intersection(A_3))\n",
    "A"
   ]
  },
  {
   "cell_type": "code",
   "execution_count": 31,
   "id": "58404e7f-9f82-4ed5-b9c3-3a11bf83fbbc",
   "metadata": {},
   "outputs": [
    {
     "data": {
      "text/plain": [
       "1"
      ]
     },
     "execution_count": 31,
     "metadata": {},
     "output_type": "execute_result"
    }
   ],
   "source": [
    "len(A)"
   ]
  },
  {
   "cell_type": "code",
   "execution_count": 33,
   "id": "a77de0c1-aad6-4aec-bea5-39f547717812",
   "metadata": {},
   "outputs": [
    {
     "data": {
      "text/plain": [
       "0.125"
      ]
     },
     "execution_count": 33,
     "metadata": {},
     "output_type": "execute_result"
    }
   ],
   "source": [
    "# Vamos a calcular la probabilidad de A\n",
    "P_A = len(A) / len(Omega)\n",
    "P_A"
   ]
  },
  {
   "cell_type": "markdown",
   "id": "af4dcd99-7a58-49d2-9bf7-9fb288fe8f46",
   "metadata": {},
   "source": [
    "Expresar resultado en fracción:"
   ]
  },
  {
   "cell_type": "code",
   "execution_count": 36,
   "id": "f2a5ea4b-31a5-41c8-a449-b821c74986ad",
   "metadata": {},
   "outputs": [],
   "source": [
    "from fractions import Fraction\n",
    "\n",
    "def p(E, Omega):\n",
    "    p = Fraction(len(E), len(Omega))\n",
    "    return p"
   ]
  },
  {
   "cell_type": "code",
   "execution_count": 38,
   "id": "2bd0aeaa-6893-4c04-9c2a-9dc892710d9a",
   "metadata": {},
   "outputs": [
    {
     "data": {
      "text/plain": [
       "Fraction(1, 8)"
      ]
     },
     "execution_count": 38,
     "metadata": {},
     "output_type": "execute_result"
    }
   ],
   "source": [
    "prob = p(A, Omega)\n",
    "prob"
   ]
  },
  {
   "cell_type": "code",
   "execution_count": 41,
   "id": "71ca4bb9-1d36-4fec-8403-e6e206de46be",
   "metadata": {},
   "outputs": [
    {
     "data": {
      "text/plain": [
       "{('S', 'A', 'A'), ('S', 'A', 'S'), ('S', 'S', 'A'), ('S', 'S', 'S')}"
      ]
     },
     "execution_count": 41,
     "metadata": {},
     "output_type": "execute_result"
    }
   ],
   "source": [
    "# Vamos a crear el evento S_1\n",
    "S_1 = {om for om in Omega if om[0] == \"S\"} # la primera coordenada es sol\n",
    "S_1"
   ]
  },
  {
   "cell_type": "code",
   "execution_count": 43,
   "id": "ac83adc6-6fe4-416a-ac37-2290942ea7ee",
   "metadata": {
    "jupyter": {
     "source_hidden": true
    }
   },
   "outputs": [
    {
     "data": {
      "text/plain": [
       "{('A', 'S', 'A'), ('A', 'S', 'S'), ('S', 'S', 'A'), ('S', 'S', 'S')}"
      ]
     },
     "execution_count": 43,
     "metadata": {},
     "output_type": "execute_result"
    }
   ],
   "source": [
    "# Vamos a crear el evento S_2\n",
    "S_2 = {om for om in Omega if om[1] == \"S\"} # la segunda coordenada es sol\n",
    "S_2"
   ]
  },
  {
   "cell_type": "code",
   "execution_count": 47,
   "id": "ca72b9f8-fd74-4f96-927a-679e4bf2e86a",
   "metadata": {},
   "outputs": [
    {
     "data": {
      "text/plain": [
       "{('A', 'A', 'S'), ('A', 'S', 'S'), ('S', 'A', 'S'), ('S', 'S', 'S')}"
      ]
     },
     "execution_count": 47,
     "metadata": {},
     "output_type": "execute_result"
    }
   ],
   "source": [
    "# Vamos a crear el evento S_3\n",
    "S_3 = {om for om in Omega if om[2] == \"S\"} # la tercera coordenada es sol\n",
    "S_3"
   ]
  },
  {
   "cell_type": "code",
   "execution_count": 49,
   "id": "46f633ef-7b2b-40ac-a332-9e9ed71109f2",
   "metadata": {},
   "outputs": [
    {
     "data": {
      "text/plain": [
       "{('S', 'S', 'S')}"
      ]
     },
     "execution_count": 49,
     "metadata": {},
     "output_type": "execute_result"
    }
   ],
   "source": [
    "# Vamos a crear el evento S\n",
    "S = S_1.intersection(S_2.intersection(S_3))\n",
    "S"
   ]
  },
  {
   "cell_type": "code",
   "execution_count": 51,
   "id": "d54f7e3f-4088-4d6d-9893-006714e0e61a",
   "metadata": {},
   "outputs": [
    {
     "data": {
      "text/plain": [
       "1"
      ]
     },
     "execution_count": 51,
     "metadata": {},
     "output_type": "execute_result"
    }
   ],
   "source": [
    "len(S)"
   ]
  },
  {
   "cell_type": "code",
   "execution_count": 53,
   "id": "1d34eb0a-a6d5-451d-a699-aa7c621799c3",
   "metadata": {},
   "outputs": [
    {
     "data": {
      "text/plain": [
       "0.125"
      ]
     },
     "execution_count": 53,
     "metadata": {},
     "output_type": "execute_result"
    }
   ],
   "source": [
    "# Vamos a calcular la probabilidad de S\n",
    "P_S = len(S) / len(Omega)\n",
    "P_S"
   ]
  },
  {
   "cell_type": "code",
   "execution_count": 84,
   "id": "17cbc9c4-0f45-4890-a346-38c4aeeb811d",
   "metadata": {},
   "outputs": [
    {
     "data": {
      "text/plain": [
       "{('A', 'A', 'S'),\n",
       " ('A', 'S', 'A'),\n",
       " ('A', 'S', 'S'),\n",
       " ('S', 'A', 'A'),\n",
       " ('S', 'A', 'S'),\n",
       " ('S', 'S', 'A'),\n",
       " ('S', 'S', 'S')}"
      ]
     },
     "execution_count": 84,
     "metadata": {},
     "output_type": "execute_result"
    }
   ],
   "source": [
    "# Vamos a crear el evento E_1\n",
    "E_1 = {om for om in Omega if om[0] == \"S\"} \n",
    "E_2 = {om for om in Omega if om[1] == \"S\"}\n",
    "E_3 = {om for om in Omega if om[2] == \"S\"}\n",
    "\n",
    "E = E_1.union(E_2.union(E_3))\n",
    "E"
   ]
  },
  {
   "cell_type": "code",
   "execution_count": 94,
   "id": "5ecd2356-f963-4fc7-b2a7-68b68b7487e1",
   "metadata": {},
   "outputs": [
    {
     "data": {
      "text/plain": [
       "{('A', 'A', 'S'),\n",
       " ('A', 'S', 'A'),\n",
       " ('A', 'S', 'S'),\n",
       " ('S', 'A', 'A'),\n",
       " ('S', 'A', 'S'),\n",
       " ('S', 'S', 'A'),\n",
       " ('S', 'S', 'S')}"
      ]
     },
     "execution_count": 94,
     "metadata": {},
     "output_type": "execute_result"
    }
   ],
   "source": [
    "E = {om for om in Omega if any(i == \"S\" for i in om)}\n",
    "E"
   ]
  },
  {
   "cell_type": "code",
   "execution_count": 86,
   "id": "f557008c-88d7-4f05-8994-a24bd91a30e4",
   "metadata": {},
   "outputs": [
    {
     "data": {
      "text/plain": [
       "7"
      ]
     },
     "execution_count": 86,
     "metadata": {},
     "output_type": "execute_result"
    }
   ],
   "source": [
    "len(E)"
   ]
  },
  {
   "cell_type": "code",
   "execution_count": 88,
   "id": "b0834197-d6c1-45ff-9e1e-aa2aebb326f3",
   "metadata": {},
   "outputs": [
    {
     "data": {
      "text/plain": [
       "0.875"
      ]
     },
     "execution_count": 88,
     "metadata": {},
     "output_type": "execute_result"
    }
   ],
   "source": [
    "# Vamos a calcular la probabilidad de E\n",
    "P_E = len(E) / len(Omega)\n",
    "P_E"
   ]
  },
  {
   "cell_type": "markdown",
   "id": "2dd3fba1-1632-44fb-a710-96b39486b54a",
   "metadata": {},
   "source": [
    "# Probabilidad condicional\n",
    "\n",
    "Definimos la probabilidad de que ocurra un evento $A$ sabiendo que ocurre el evento $B$,\n",
    "$$ \\mathbb{P}(A \\mid B) = \\frac{\\mathbb{P}(A \\cap B)}{\\mathbb{P}(B)} $$\n",
    "donde $ \\mathbb{P}(B) > 0$."
   ]
  },
  {
   "cell_type": "code",
   "execution_count": 102,
   "id": "b20a5b66-ef5b-4fd4-9eed-1958cc781792",
   "metadata": {},
   "outputs": [],
   "source": [
    "def prob_cond(E, F):\n",
    "    return len(E & F) / len(F)"
   ]
  },
  {
   "cell_type": "markdown",
   "id": "a838b9d8-1913-4e35-a0db-783063c75bc9",
   "metadata": {},
   "source": [
    "Quiero calcular la probabilidad condicional de los siguientes eventos:\n",
    "* El primer lanzamiento es águila\n",
    "* Dos de los resultados son águila"
   ]
  },
  {
   "cell_type": "code",
   "execution_count": 127,
   "id": "5546ce34-2e7e-4c86-ae2b-92f555e0e05b",
   "metadata": {},
   "outputs": [
    {
     "data": {
      "text/plain": [
       "{('A', 'A', 'A'), ('A', 'A', 'S'), ('A', 'S', 'A'), ('A', 'S', 'S')}"
      ]
     },
     "execution_count": 127,
     "metadata": {},
     "output_type": "execute_result"
    }
   ],
   "source": [
    "# El primer lanzamiento es águila\n",
    "B = {om for om in Omega if om[0] == \"A\"} # El primer lanzamiento es águila\n",
    "B"
   ]
  },
  {
   "cell_type": "code",
   "execution_count": 125,
   "id": "39cfd361-7073-41e0-99ce-6636a4225a19",
   "metadata": {},
   "outputs": [
    {
     "data": {
      "text/plain": [
       "{('A', 'A', 'S'), ('A', 'S', 'A'), ('S', 'A', 'A')}"
      ]
     },
     "execution_count": 125,
     "metadata": {},
     "output_type": "execute_result"
    }
   ],
   "source": [
    "C = {om for om in Omega if om.count(\"A\") == 2}\n",
    "C"
   ]
  },
  {
   "cell_type": "code",
   "execution_count": 109,
   "id": "3f714c4e-28df-4dfa-82b0-1d12e1b8ae84",
   "metadata": {},
   "outputs": [],
   "source": [
    "def prob(E):\n",
    "    return len(E) / len(Omega)"
   ]
  },
  {
   "cell_type": "code",
   "execution_count": 129,
   "id": "7262894a-0709-450b-8974-d523ce48d03a",
   "metadata": {},
   "outputs": [
    {
     "data": {
      "text/plain": [
       "0.5"
      ]
     },
     "execution_count": 129,
     "metadata": {},
     "output_type": "execute_result"
    }
   ],
   "source": [
    "prob(B)"
   ]
  },
  {
   "cell_type": "code",
   "execution_count": 131,
   "id": "7d7a88cf-920e-4734-a55b-77861cad9dab",
   "metadata": {},
   "outputs": [
    {
     "data": {
      "text/plain": [
       "0.375"
      ]
     },
     "execution_count": 131,
     "metadata": {},
     "output_type": "execute_result"
    }
   ],
   "source": [
    "prob(C)"
   ]
  },
  {
   "cell_type": "code",
   "execution_count": 133,
   "id": "2a802708-cab1-470c-8dca-be90bef90fe0",
   "metadata": {},
   "outputs": [
    {
     "data": {
      "text/plain": [
       "0.6666666666666666"
      ]
     },
     "execution_count": 133,
     "metadata": {},
     "output_type": "execute_result"
    }
   ],
   "source": [
    "prob_cond(B, C)"
   ]
  },
  {
   "cell_type": "markdown",
   "id": "37b9cfdd-4a34-4edc-888a-5c011a0fca0a",
   "metadata": {},
   "source": [
    "## Independencia de eventos\n",
    "\n",
    "Decimos que dos eventos $A$ y $B$ son independientes si\n",
    "$$ \\mathbb{P}(A \\cap B) = \\mathbb{P}(A)\\mathbb{P}(B) $$\n",
    "o de manera equivalente\n",
    "$$ \\mathbb{P}(A|B) = \\mathbb{P}(A) $$"
   ]
  },
  {
   "cell_type": "code",
   "execution_count": 138,
   "id": "4f83f9e6-861c-4c48-9111-36527b62faf5",
   "metadata": {},
   "outputs": [],
   "source": [
    "def indep(E, F):\n",
    "    return prob(E & F) == prob(E)*prob(F)"
   ]
  },
  {
   "cell_type": "code",
   "execution_count": 140,
   "id": "52dff0cc-a7d6-45e7-a680-708b128a08f7",
   "metadata": {},
   "outputs": [
    {
     "data": {
      "text/plain": [
       "False"
      ]
     },
     "execution_count": 140,
     "metadata": {},
     "output_type": "execute_result"
    }
   ],
   "source": [
    "indep(B, C)"
   ]
  },
  {
   "cell_type": "markdown",
   "id": "82e237f5-0c4d-47ed-85a9-8756cedee4c1",
   "metadata": {},
   "source": [
    "Vamos a considerar el evento:\n",
    "* $D$: en el segundo lanzamiento es sol"
   ]
  },
  {
   "cell_type": "code",
   "execution_count": 146,
   "id": "cf619957-cabc-4448-bc4e-5b368e859b03",
   "metadata": {},
   "outputs": [
    {
     "data": {
      "text/plain": [
       "{('A', 'S', 'A'), ('A', 'S', 'S'), ('S', 'S', 'A'), ('S', 'S', 'S')}"
      ]
     },
     "execution_count": 146,
     "metadata": {},
     "output_type": "execute_result"
    }
   ],
   "source": [
    "D = {om for om in Omega if om[1] == \"S\"}\n",
    "D"
   ]
  },
  {
   "cell_type": "code",
   "execution_count": 148,
   "id": "63cae69a-acc8-4175-b121-b8b5cafa01d1",
   "metadata": {},
   "outputs": [
    {
     "data": {
      "text/plain": [
       "0.5"
      ]
     },
     "execution_count": 148,
     "metadata": {},
     "output_type": "execute_result"
    }
   ],
   "source": [
    "prob(D)"
   ]
  },
  {
   "cell_type": "code",
   "execution_count": 150,
   "id": "a912bdb4-6370-4aef-b708-1137255b0d29",
   "metadata": {},
   "outputs": [
    {
     "data": {
      "text/plain": [
       "0.5"
      ]
     },
     "execution_count": 150,
     "metadata": {},
     "output_type": "execute_result"
    }
   ],
   "source": [
    "prob_cond(B,D)"
   ]
  },
  {
   "cell_type": "code",
   "execution_count": 152,
   "id": "13918ef6-c46c-4519-905e-20dba0593eaf",
   "metadata": {},
   "outputs": [
    {
     "data": {
      "text/plain": [
       "True"
      ]
     },
     "execution_count": 152,
     "metadata": {},
     "output_type": "execute_result"
    }
   ],
   "source": [
    "indep(B,D)"
   ]
  },
  {
   "cell_type": "markdown",
   "id": "66a04ad2-7424-4ae5-ac4f-639eb956afe9",
   "metadata": {},
   "source": [
    "Quiero verificar si $B$, $C$ y $D$ son independientes"
   ]
  },
  {
   "cell_type": "code",
   "execution_count": 155,
   "id": "73d4261b-23d3-472c-8266-db33e57a0ddc",
   "metadata": {},
   "outputs": [
    {
     "data": {
      "text/plain": [
       "True"
      ]
     },
     "execution_count": 155,
     "metadata": {},
     "output_type": "execute_result"
    }
   ],
   "source": [
    "indep(B,D)"
   ]
  },
  {
   "cell_type": "code",
   "execution_count": 157,
   "id": "ec64de4b-21f8-458d-aa25-23972fb3864f",
   "metadata": {},
   "outputs": [
    {
     "data": {
      "text/plain": [
       "False"
      ]
     },
     "execution_count": 157,
     "metadata": {},
     "output_type": "execute_result"
    }
   ],
   "source": [
    "indep(C,D)"
   ]
  },
  {
   "cell_type": "code",
   "execution_count": 159,
   "id": "6eed8af8-7ea5-4f7d-867b-9c5e4d36fd00",
   "metadata": {},
   "outputs": [
    {
     "data": {
      "text/plain": [
       "False"
      ]
     },
     "execution_count": 159,
     "metadata": {},
     "output_type": "execute_result"
    }
   ],
   "source": [
    "indep(B,C)"
   ]
  },
  {
   "cell_type": "markdown",
   "id": "f14ee9db-c78b-4dee-b1d5-20d49f313763",
   "metadata": {},
   "source": [
    "Por lo tanto, los eventos no son independientes."
   ]
  },
  {
   "cell_type": "markdown",
   "id": "fca720ed-c8e5-49a6-9980-e93bd6132c2a",
   "metadata": {},
   "source": [
    "**EJEMPLO**. Sea el experimento aleatorio de lanzar un dado dos veces\n",
    "\n",
    "Sabemos que el espacio muestral es el siguiente:\n",
    "$$ \\Omega = \\{(i,j) | i,j \\in \\{1,2,3,4,5,6\\} \\} = \\{1,2,3,4,5,6\\}  \\times \\{1,2,3,4,5,6\\} = \\{1,2,3,4,5,6\\}^2 $$\n",
    "y además $\\#\\Omega = 6^2 = 36$"
   ]
  },
  {
   "cell_type": "code",
   "execution_count": 172,
   "id": "94e3ca5e-3b78-4d9c-afad-b2d38322ac98",
   "metadata": {},
   "outputs": [
    {
     "data": {
      "text/plain": [
       "{(1, 1),\n",
       " (1, 2),\n",
       " (1, 3),\n",
       " (1, 4),\n",
       " (1, 5),\n",
       " (1, 6),\n",
       " (2, 1),\n",
       " (2, 2),\n",
       " (2, 3),\n",
       " (2, 4),\n",
       " (2, 5),\n",
       " (2, 6),\n",
       " (3, 1),\n",
       " (3, 2),\n",
       " (3, 3),\n",
       " (3, 4),\n",
       " (3, 5),\n",
       " (3, 6),\n",
       " (4, 1),\n",
       " (4, 2),\n",
       " (4, 3),\n",
       " (4, 4),\n",
       " (4, 5),\n",
       " (4, 6),\n",
       " (5, 1),\n",
       " (5, 2),\n",
       " (5, 3),\n",
       " (5, 4),\n",
       " (5, 5),\n",
       " (5, 6),\n",
       " (6, 1),\n",
       " (6, 2),\n",
       " (6, 3),\n",
       " (6, 4),\n",
       " (6, 5),\n",
       " (6, 6)}"
      ]
     },
     "execution_count": 172,
     "metadata": {},
     "output_type": "execute_result"
    }
   ],
   "source": [
    "Omega_dado = set(product([1,2,3,4,5,6], repeat = 2))\n",
    "Omega_dado"
   ]
  },
  {
   "cell_type": "code",
   "execution_count": 174,
   "id": "1630811b-a2f9-43db-b59c-73eeae24eb55",
   "metadata": {},
   "outputs": [
    {
     "data": {
      "text/plain": [
       "36"
      ]
     },
     "execution_count": 174,
     "metadata": {},
     "output_type": "execute_result"
    }
   ],
   "source": [
    "cardOm = len(Omega_dado)\n",
    "cardOm"
   ]
  },
  {
   "cell_type": "markdown",
   "id": "40dbd0ab-0015-450f-ac1c-b312f100e566",
   "metadata": {},
   "source": [
    "Definimos el evento\n",
    "* $S_n$: la suma de los dados en $n$\n",
    "y escrito como conjunto es\n",
    "$$ S_n = \\{(i,j) \\in \\Omega \\mid i+j = n \\}$$"
   ]
  },
  {
   "cell_type": "code",
   "execution_count": 208,
   "id": "bdb97b9c-35f9-4699-9e8a-76ba343c7848",
   "metadata": {},
   "outputs": [],
   "source": [
    "def S(n):\n",
    "    Sn = {(i,j) for i in range(1,7) for j in range(1,7) if i+j == n}\n",
    "    return Sn"
   ]
  },
  {
   "cell_type": "code",
   "execution_count": 212,
   "id": "f5ce0475-7aee-420e-b2de-c153aa74525b",
   "metadata": {},
   "outputs": [
    {
     "data": {
      "text/plain": [
       "{(3, 6), (4, 5), (5, 4), (6, 3)}"
      ]
     },
     "execution_count": 212,
     "metadata": {},
     "output_type": "execute_result"
    }
   ],
   "source": [
    "S_nueve = S(9)\n",
    "S_nueve"
   ]
  },
  {
   "cell_type": "code",
   "execution_count": 214,
   "id": "5c42c1db-c6b0-4f88-b6d1-2ab144057289",
   "metadata": {},
   "outputs": [
    {
     "data": {
      "text/plain": [
       "0.5"
      ]
     },
     "execution_count": 214,
     "metadata": {},
     "output_type": "execute_result"
    }
   ],
   "source": [
    "prob(S_nueve)"
   ]
  },
  {
   "cell_type": "markdown",
   "id": "1c4d5f6f-0504-4c41-9853-af3955018ce5",
   "metadata": {},
   "source": [
    "$$ \\mathbb{P}(S(9)) = 4/36 $$"
   ]
  },
  {
   "cell_type": "code",
   "execution_count": null,
   "id": "277ac588-43fa-4632-9ba1-933a64e86837",
   "metadata": {},
   "outputs": [],
   "source": []
  }
 ],
 "metadata": {
  "kernelspec": {
   "display_name": "Python 3 (ipykernel)",
   "language": "python",
   "name": "python3"
  },
  "language_info": {
   "codemirror_mode": {
    "name": "ipython",
    "version": 3
   },
   "file_extension": ".py",
   "mimetype": "text/x-python",
   "name": "python",
   "nbconvert_exporter": "python",
   "pygments_lexer": "ipython3",
   "version": "3.12.7"
  }
 },
 "nbformat": 4,
 "nbformat_minor": 5
}
