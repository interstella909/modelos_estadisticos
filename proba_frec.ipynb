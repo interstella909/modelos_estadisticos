{
 "cells": [
  {
   "cell_type": "markdown",
   "id": "17856aca-613b-4581-a6f8-68da51fabda7",
   "metadata": {},
   "source": [
    "# Probabilidad Frecuentista\n",
    "\n",
    "Tenemos la hipótesis de que el espacio muestral es un conjunto finito, y podemos definir la probabilidad asociada a un evento $A$:\n",
    "$$f_n(a) = \\frac{n(A)}{n}, $$\n",
    "donde $n(A)$ denona al número de veves que ocurre $A$, y $n$ es el número de veces en que se realiza el experimento.\n"
   ]
  },
  {
   "cell_type": "code",
   "execution_count": 4,
   "id": "52343167-7459-4bd7-96a2-dadd70309037",
   "metadata": {},
   "outputs": [],
   "source": [
    "import random"
   ]
  },
  {
   "cell_type": "raw",
   "id": "88f31975-eb33-42de-a708-287b37c10382",
   "metadata": {},
   "source": [
    "Se tiene el lanzamiento de monedad injustas (volados)"
   ]
  },
  {
   "cell_type": "code",
   "execution_count": 10,
   "id": "eeb57bbc-4337-4048-bbb6-90e0edeb4380",
   "metadata": {},
   "outputs": [],
   "source": [
    "def volado(p):\n",
    "    return 'sol' if random.random() < p else 'aguila'"
   ]
  },
  {
   "cell_type": "code",
   "execution_count": 20,
   "id": "6ea5e1f8-675f-4535-8d24-b891f9d3e454",
   "metadata": {},
   "outputs": [
    {
     "data": {
      "text/plain": [
       "'sol'"
      ]
     },
     "execution_count": 20,
     "metadata": {},
     "output_type": "execute_result"
    }
   ],
   "source": [
    "volado(0.4)"
   ]
  },
  {
   "cell_type": "code",
   "execution_count": 24,
   "id": "7e33c416-d56d-4acc-9e00-d26f0c3160c3",
   "metadata": {},
   "outputs": [
    {
     "data": {
      "text/plain": [
       "['sol',\n",
       " 'sol',\n",
       " 'aguila',\n",
       " 'aguila',\n",
       " 'aguila',\n",
       " 'aguila',\n",
       " 'sol',\n",
       " 'aguila',\n",
       " 'sol',\n",
       " 'sol']"
      ]
     },
     "execution_count": 24,
     "metadata": {},
     "output_type": "execute_result"
    }
   ],
   "source": [
    "a = [volado(0.4) for i in range(10)]\n",
    "a"
   ]
  },
  {
   "cell_type": "code",
   "execution_count": 28,
   "id": "8e749676-0ed3-4f11-b556-a42aa156015e",
   "metadata": {},
   "outputs": [
    {
     "data": {
      "text/plain": [
       "5"
      ]
     },
     "execution_count": 28,
     "metadata": {},
     "output_type": "execute_result"
    }
   ],
   "source": [
    "a.count(\"sol\")"
   ]
  },
  {
   "cell_type": "code",
   "execution_count": 42,
   "id": "08a431e7-4c47-4297-b666-127407573c98",
   "metadata": {},
   "outputs": [],
   "source": [
    "resultados = [] # lista vacia"
   ]
  },
  {
   "cell_type": "code",
   "execution_count": 44,
   "id": "9d6978f7-2b71-4fa0-8030-0a98e09c77a8",
   "metadata": {},
   "outputs": [
    {
     "data": {
      "text/plain": [
       "['sol',\n",
       " 'sol',\n",
       " 'aguila',\n",
       " 'aguila',\n",
       " 'sol',\n",
       " 'sol',\n",
       " 'sol',\n",
       " 'aguila',\n",
       " 'sol',\n",
       " 'aguila']"
      ]
     },
     "execution_count": 44,
     "metadata": {},
     "output_type": "execute_result"
    }
   ],
   "source": [
    "for i in range(10):\n",
    "    resultado = volado(0.4)\n",
    "    resultados.append(resultado)\n",
    "resultados"
   ]
  },
  {
   "cell_type": "code",
   "execution_count": 53,
   "id": "400d46ce-c622-4db5-9eb7-e34abadeb562",
   "metadata": {},
   "outputs": [
    {
     "name": "stdout",
     "output_type": "stream",
     "text": [
      "Probabilidad 0.637\n"
     ]
    }
   ],
   "source": [
    "# Vamos a simular nuestra probabilidad frecuentista\n",
    "p = [] #lista para almacenar las probabilidades\n",
    "\n",
    "for i in range(1000): #Simula 1000 experimentos\n",
    "    N = 10 #numero de lanzamientos\n",
    "    resultados = []\n",
    "\n",
    "    for i in range(N):\n",
    "        resultado = volado(0.63)\n",
    "        resultados.append(resultado)\n",
    "\n",
    "    n_soles = resultados.count(\"sol\") #cuenta el numero de soles\n",
    "    p_soles = n_soles / N #calcula la proporcion\n",
    "    p.append(p_soles)\n",
    "\n",
    "#Probabilidad promedio\n",
    "p_soles_prom = sum(p) / 1000\n",
    "\n",
    "print(\"Probabilidad {:.3f}\".format(p_soles_prom))"
   ]
  },
  {
   "cell_type": "code",
   "execution_count": null,
   "id": "b0bd152c-5790-44dd-9044-f67f06a2b9a6",
   "metadata": {},
   "outputs": [],
   "source": []
  },
  {
   "cell_type": "code",
   "execution_count": null,
   "id": "08badb6b-178c-426f-bc3e-6674c96079e6",
   "metadata": {},
   "outputs": [],
   "source": []
  }
 ],
 "metadata": {
  "kernelspec": {
   "display_name": "Python 3 (ipykernel)",
   "language": "python",
   "name": "python3"
  },
  "language_info": {
   "codemirror_mode": {
    "name": "ipython",
    "version": 3
   },
   "file_extension": ".py",
   "mimetype": "text/x-python",
   "name": "python",
   "nbconvert_exporter": "python",
   "pygments_lexer": "ipython3",
   "version": "3.12.7"
  }
 },
 "nbformat": 4,
 "nbformat_minor": 5
}
